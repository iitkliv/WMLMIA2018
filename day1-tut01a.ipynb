{
 "cells": [
  {
   "cell_type": "markdown",
   "metadata": {},
   "source": [
    "## WMLMIA 2018\n",
    "## Tutorial 1a : Python for MedIA\n",
    "\n",
    "### Python Image Library (PIL) [http://www.pythonware.com/products/pil/]"
   ]
  },
  {
   "cell_type": "code",
   "execution_count": null,
   "metadata": {},
   "outputs": [],
   "source": [
    "%matplotlib inline\n",
    "from PIL import Image\n",
    "import matplotlib.pyplot as plt\n",
    "import os\n",
    "import numpy as np\n",
    "\n",
    "if not os.path.exists('day1/tut01-results'):\n",
    "    os.makedirs('day1/tut01-results')\n",
    "\n",
    "#Loading an image\n",
    "img = Image.open('data/day1/tut01/sample.png')\n",
    "plt.imshow(img, cmap='gray') # display the image\n",
    "print('Image size: '+str(img.size)) # image dimensions"
   ]
  },
  {
   "cell_type": "code",
   "execution_count": null,
   "metadata": {},
   "outputs": [],
   "source": [
    "#Saving an image\n",
    "img.save('day1/tut01-results/sample_save.png')"
   ]
  },
  {
   "cell_type": "code",
   "execution_count": null,
   "metadata": {},
   "outputs": [],
   "source": [
    "#Cropping an image\n",
    "box = (250,10,350,250) # top-left and bottom right co-ordinates of the region to be cropped\n",
    "img_crop = img.crop(box)\n",
    "plt.imshow(img_crop,cmap='gray')"
   ]
  },
  {
   "cell_type": "code",
   "execution_count": null,
   "metadata": {},
   "outputs": [],
   "source": [
    "#Resizing an image\n",
    "img_resz = img.resize((200,200))\n",
    "plt.subplot(1,2,1)\n",
    "plt.imshow(np.asarray(img),cmap='gray')\n",
    "plt.subplot(1,2,2)\n",
    "plt.imshow(np.asarray(img_resz),cmap='gray')"
   ]
  },
  {
   "cell_type": "code",
   "execution_count": null,
   "metadata": {},
   "outputs": [],
   "source": [
    "#Rotating an image\n",
    "img_rot = img_resz.rotate(45) # anti-clockwise rotation\n",
    "plt.subplot(1,2,1)\n",
    "plt.imshow(img_resz,cmap='gray')\n",
    "plt.subplot(1,2,2)\n",
    "plt.imshow(img_rot,cmap='gray')"
   ]
  },
  {
   "cell_type": "code",
   "execution_count": null,
   "metadata": {},
   "outputs": [],
   "source": [
    "from matplotlib.pyplot import bar\n",
    "#Histogram of images\n",
    "img_hist = img.histogram() # default range 0-255\n",
    "bar(range(256),img_hist)"
   ]
  },
  {
   "cell_type": "markdown",
   "metadata": {},
   "source": [
    "#### For more examples on matplotlib visit https://matplotlib.org/2.0.2/examples/index.html\n",
    "\n",
    "### NumPy [doc: http://docs.scipy.org/doc/numpy/]"
   ]
  },
  {
   "cell_type": "code",
   "execution_count": null,
   "metadata": {},
   "outputs": [],
   "source": [
    "import numpy as np\n",
    "# Converting to numpy array and properties\n",
    "img_arr = np.array(img)\n",
    "print('Image size:' +str(img_arr.shape))\n",
    "print('Data type: '+str(img_arr.dtype))\n",
    "print('Range of pixel values: '+str(img_arr.min())+' - '+str(img_arr.max()))"
   ]
  },
  {
   "cell_type": "code",
   "execution_count": null,
   "metadata": {
    "scrolled": true
   },
   "outputs": [],
   "source": [
    "# Acessing an element in an array\n",
    "px1 = img_arr[100,100]\n",
    "print('px1: '+ str(px1))\n",
    "\n",
    "# Accessing multiple elements by slicing\n",
    "px2 = img_arr[100,:] # all the elemts in a row\n",
    "print('px2: '+ str(px2))\n",
    "\n",
    "px3 = img_arr[100,30:40] # range of elements in a row\n",
    "print('px3: '+ str(px3))\n",
    "\n",
    "px4 = img_arr[:,-1] # last column\n",
    "print('px4: '+ str(px4))\n"
   ]
  },
  {
   "cell_type": "code",
   "execution_count": null,
   "metadata": {},
   "outputs": [],
   "source": [
    "import matplotlib.pyplot as plt\n",
    "\n",
    "# Graylevel transformations\n",
    "img_inv = img_arr.max()-img_arr\n",
    "plt.figure()\n",
    "plt.subplot(121)\n",
    "plt.imshow(img_arr,'gray')\n",
    "plt.subplot(122)\n",
    "plt.imshow(img_inv,'gray')\n",
    "\n",
    "img_clamp = (100.0/img_arr.max()) * img_arr + 100 #clamp to interval 100...200\n",
    "plt.figure()\n",
    "plt.imshow(img_clamp)\n",
    "plt.colorbar()\n",
    "\n",
    "# Minimum and maximum values\n",
    "print(img_arr.min(),img_arr.max())\n",
    "print(img_clamp.min(),img_clamp.max())\n",
    "\n",
    "img_clamp_hist,_ = np.histogram(img_clamp, range=(0,255), bins=256)\n",
    "plt.figure()\n",
    "bar(range(256),img_clamp_hist)"
   ]
  },
  {
   "cell_type": "code",
   "execution_count": null,
   "metadata": {},
   "outputs": [],
   "source": [
    "# Array to image\n",
    "pil_img = Image.fromarray(np.uint8(img_clamp))\n",
    "plt.imshow(np.asarray(pil_img),'gray')\n",
    "# pil_img.show()"
   ]
  },
  {
   "cell_type": "code",
   "execution_count": null,
   "metadata": {},
   "outputs": [],
   "source": [
    "# Histogram equivalization\n",
    "img_clamp_hist,bins = np.histogram(img_clamp.flatten(),range=(0,255),bins=256)\n",
    "cdf = img_clamp_hist.cumsum() # cumulative distribution function\n",
    "cdf = img_arr.max() * cdf / cdf[-1] # normalize\n",
    "# use linear interpolation of cdf to find new pixel values\n",
    "img_clampeq = np.interp(img_clamp.flatten(),bins[:-1],cdf).reshape(img_arr.shape)\n",
    "img_clampeq_hist,_ = np.histogram(img_clampeq.flatten(),range=(0,255),bins=256)\n",
    "plt.subplot(2,2,1)\n",
    "plt.imshow(np.uint8(img_clamp),'gray')\n",
    "plt.subplot(2,2,2)\n",
    "plt.imshow(np.uint8(img_clampeq),'gray')\n",
    "plt.figure()\n",
    "plt.subplot(2,2,3)\n",
    "bar(range(256),img_clamp_hist)\n",
    "plt.subplot(2,2,4)\n",
    "bar(range(256),img_clampeq_hist)\n",
    "\n",
    "Image.fromarray(np.uint8(img_clamp)).save('day1/tut01-results/iitkgp_clamp.png') \n",
    "Image.fromarray(np.uint8(img_clampeq)).save('day1/tut01-results/iitkgp_clampEq.png')"
   ]
  },
  {
   "cell_type": "code",
   "execution_count": null,
   "metadata": {},
   "outputs": [],
   "source": []
  }
 ],
 "metadata": {
  "kernelspec": {
   "display_name": "Python 3",
   "language": "python",
   "name": "python3"
  },
  "language_info": {
   "codemirror_mode": {
    "name": "ipython",
    "version": 3
   },
   "file_extension": ".py",
   "mimetype": "text/x-python",
   "name": "python",
   "nbconvert_exporter": "python",
   "pygments_lexer": "ipython3",
   "version": "3.6.3"
  }
 },
 "nbformat": 4,
 "nbformat_minor": 2
}
