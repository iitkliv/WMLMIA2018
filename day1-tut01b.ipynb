{
 "cells": [
  {
   "cell_type": "markdown",
   "metadata": {},
   "source": [
    "## WMLMIA 2018\n",
    "## Tutorial 1b : Python for MedIA Lab"
   ]
  },
  {
   "cell_type": "code",
   "execution_count": null,
   "metadata": {},
   "outputs": [],
   "source": [
    "%matplotlib inline\n",
    "import scipy.io as sio\n",
    "import numpy as np\n",
    "from PIL import Image\n",
    "from myFcnCart2Pol import myFcnCart2Pol\n",
    "from skimage.segmentation import random_walker\n",
    "import skimage\n",
    "import scipy.signal as signal\n",
    "import scipy.ndimage.morphology as morph\n",
    "from myFcnPol2Cart import myFcnPol2Cart\n",
    "import pickle\n",
    "import matplotlib.pyplot as plt"
   ]
  },
  {
   "cell_type": "code",
   "execution_count": null,
   "metadata": {},
   "outputs": [],
   "source": [
    "# Size of image in polar coordinates\n",
    "szPol = 256\n",
    "\n",
    "# Window size for feature extraction\n",
    "Kernelmat = np.array([3,5,7,13,17,21,25,30])"
   ]
  },
  {
   "cell_type": "code",
   "execution_count": null,
   "metadata": {},
   "outputs": [],
   "source": [
    "# Loading trained Ranfom-Forest model for segmentation\n",
    "pkl_file = open('data/day1/tut01/myfile.pkl','rb')\n",
    "rf = pickle.load(pkl_file,encoding='latin1')\n",
    "pkl_file.close()"
   ]
  },
  {
   "cell_type": "code",
   "execution_count": null,
   "metadata": {},
   "outputs": [],
   "source": [
    "# Load original image and ground truth\n",
    "OrgImage = np.asarray(Image.open('data/day1/tut01/orig_frame_01_0018_003.png').convert('L'))\n",
    "GtImage = np.asarray(Image.open('data/day1/tut01/gt_frame_01_0018_003.png').convert('L'))\n",
    "# Size of image\n",
    "(szCart1, szCart2) = OrgImage.shape\n",
    "# Convert images from cartesian to polar\n",
    "polarOrgImage = myFcnCart2Pol(OrgImage, szPol, szPol)\n",
    "polarGtImage = myFcnCart2Pol(GtImage, szPol, szPol)"
   ]
  },
  {
   "cell_type": "code",
   "execution_count": null,
   "metadata": {},
   "outputs": [],
   "source": [
    "plt.subplot(2,2,1)\n",
    "plt.imshow(OrgImage,'gray')\n",
    "plt.subplot(2,2,2)\n",
    "plt.imshow(GtImage,'gray')\n",
    "plt.subplot(2,2,3)\n",
    "plt.imshow(polarOrgImage,'gray')\n",
    "plt.subplot(2,2,4)\n",
    "plt.imshow(polarGtImage,'gray')"
   ]
  },
  {
   "cell_type": "code",
   "execution_count": null,
   "metadata": {},
   "outputs": [],
   "source": [
    "# Feature Extraction\n",
    "beta = 2000 \n",
    "markers = np.zeros(polarOrgImage.shape, dtype=np.uint) # seed points   \n",
    "markers[0,:] = 2\n",
    "markers[szPol-1,:] = 1\n",
    "labels = random_walker(skimage.img_as_float(polarOrgImage), markers, beta, mode='bf', copy=True, return_full_prob=True)\n",
    "\n",
    "for scaleCtr in range(0,len(Kernelmat)):\n",
    "    hScale = np.ones((Kernelmat[scaleCtr], Kernelmat[0]))\n",
    "    hScale = hScale/np.sum(hScale)\n",
    "    ConvMean  = signal.convolve2d(polarOrgImage, hScale, mode='same')\n",
    "    SqMean = signal.convolve2d(polarOrgImage**2, hScale, mode='same')\n",
    "    ConvVar = SqMean - ConvMean**2\n",
    "    if scaleCtr == 0:\n",
    "        MeanSet = np.reshape(ConvMean, (1,np.product(ConvMean.shape)))[0]\n",
    "        VarSet = np.reshape(ConvVar, (1,np.product(ConvVar.shape)))[0]\n",
    "        ConfSet = np.reshape(labels[1,:,:], (1,np.product(labels[1,:,:].shape)))[0]\n",
    "    else:\n",
    "        MeanSet = np.vstack((MeanSet,np.reshape(ConvMean, (1,np.product(ConvMean.shape)))[0]))\n",
    "        VarSet = np.vstack((VarSet,np.reshape(ConvVar, (1,np.product(ConvVar.shape)))[0]))\n",
    "\n",
    "TestingFeatureSet = np.zeros((np.product(polarOrgImage.shape),17)) # No. of features=17\n",
    "MeanSet = MeanSet.transpose()\n",
    "VarSet = VarSet.transpose()\n",
    "TestingFeatureSet[:,0:16] = np.hstack((MeanSet,VarSet))\n",
    "TestingFeatureSet[:,16] = ConfSet"
   ]
  },
  {
   "cell_type": "code",
   "execution_count": null,
   "metadata": {},
   "outputs": [],
   "source": [
    "# Prediction from trained random forest model\n",
    "Pred = rf.predict(TestingFeatureSet[:,0:17])\n",
    "PredImage = np.reshape(Pred,(szPol,szPol))"
   ]
  },
  {
   "cell_type": "code",
   "execution_count": null,
   "metadata": {},
   "outputs": [],
   "source": [
    "# Separating contours for lumen and media\n",
    "PredBwLum = np.zeros(PredImage.shape)     \n",
    "PredBwLum[PredImage == 1] = 1\n",
    "PredBwMed = np.zeros(PredImage.shape)     \n",
    "PredBwMed[(PredImage ==1) | (PredImage ==2)] = 1"
   ]
  },
  {
   "cell_type": "code",
   "execution_count": null,
   "metadata": {},
   "outputs": [],
   "source": [
    "# Morphological operations\n",
    "LumBw = skimage.morphology.dilation((skimage.morphology.erosion(PredBwLum, skimage.morphology.disk(2))), skimage.morphology.disk(2))\n",
    "LumBw = skimage.morphology.label(LumBw)\n",
    "MedBw = skimage.morphology.dilation((skimage.morphology.erosion(PredBwMed, skimage.morphology.disk(2))), skimage.morphology.disk(2))\n",
    "MedBw = skimage.morphology.label(MedBw)\n",
    "LumBw[np.nonzero(LumBw >1)] = 0\n",
    "MedBw[np.nonzero(MedBw >1)] = 0\n",
    "LumBw = morph.binary_fill_holes(LumBw)\n",
    "MedBw = morph.binary_fill_holes(MedBw)"
   ]
  },
  {
   "cell_type": "code",
   "execution_count": null,
   "metadata": {},
   "outputs": [],
   "source": [
    "# Converting back to cartesian\n",
    "Lum = myFcnPol2Cart(LumBw, szCart1, szCart2)\n",
    "Med = myFcnPol2Cart(MedBw, szCart1, szCart2)"
   ]
  },
  {
   "cell_type": "code",
   "execution_count": null,
   "metadata": {},
   "outputs": [],
   "source": [
    "k = 15 # size of structural elemant\n",
    "Lum = skimage.morphology.erosion((skimage.morphology.dilation(Lum, skimage.morphology.disk(k))), skimage.morphology.disk(k))\n",
    "Lum = skimage.morphology.label(Lum)\n",
    "Lum[np.nonzero(Lum >1)] = 0\n",
    "Lum = morph.binary_fill_holes(Lum)\n",
    "Med = skimage.morphology.erosion((skimage.morphology.dilation(Med, skimage.morphology.disk(k))), skimage.morphology.disk(k))\n",
    "Med = morph.binary_fill_holes(Med)\n",
    "FedgeLum = skimage.morphology.dilation(Lum, skimage.morphology.disk(3)) ^ Lum\n",
    "FedgeMed = skimage.morphology.dilation(Med, skimage.morphology.disk(3)) ^ Med"
   ]
  },
  {
   "cell_type": "code",
   "execution_count": null,
   "metadata": {},
   "outputs": [],
   "source": [
    "GtLum = np.zeros((GtImage.shape))\n",
    "GtMed = np.zeros((GtImage.shape))\n",
    "GtLum[GtImage == 254] = 1\n",
    "GtMed[GtImage > 0] = 1\n",
    "GtEdgeLum = skimage.morphology.dilation(GtLum, skimage.morphology.disk(3)) - GtLum\n",
    "GtEdgeMed = skimage.morphology.dilation(GtMed, skimage.morphology.disk(3)) - GtMed"
   ]
  },
  {
   "cell_type": "code",
   "execution_count": null,
   "metadata": {},
   "outputs": [],
   "source": [
    "# Color mapping\n",
    "Org = np.empty((szCart1, szCart2, 3), dtype=np.uint8)\n",
    "Org[:, :, 0] = Org[:, :, 1] = Org[:, :, 2] = OrgImage\n",
    "Org[GtEdgeLum == 1,0] = 0; Org[GtEdgeLum == 1,1] = 0; Org[GtEdgeLum == 1,2] = 255\n",
    "Org[GtEdgeMed == 1,0] = 255; Org[GtEdgeMed == 1,1] = 255; Org[GtEdgeMed == 1,2] = 0\n",
    "Org[FedgeLum == 1,0] = 255; Org[FedgeLum == 1,1] = 0; Org[FedgeLum == 1,2] = 0\n",
    "Org[FedgeMed == 1,0] = 0; Org[FedgeMed == 1,1] = 255; Org[FedgeMed == 1,2] = 0"
   ]
  },
  {
   "cell_type": "code",
   "execution_count": null,
   "metadata": {},
   "outputs": [],
   "source": [
    "OrgI = Image.fromarray((Org).astype(np.uint8));\n",
    "OrgI.show()"
   ]
  },
  {
   "cell_type": "code",
   "execution_count": null,
   "metadata": {},
   "outputs": [],
   "source": []
  }
 ],
 "metadata": {
  "kernelspec": {
   "display_name": "Python 3",
   "language": "python",
   "name": "python3"
  },
  "language_info": {
   "codemirror_mode": {
    "name": "ipython",
    "version": 3
   },
   "file_extension": ".py",
   "mimetype": "text/x-python",
   "name": "python",
   "nbconvert_exporter": "python",
   "pygments_lexer": "ipython3",
   "version": "3.6.3"
  }
 },
 "nbformat": 4,
 "nbformat_minor": 2
}
